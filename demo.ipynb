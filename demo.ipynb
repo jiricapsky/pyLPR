{
 "cells": [
  {
   "attachments": {},
   "cell_type": "markdown",
   "metadata": {},
   "source": [
    "# PyLPR demo\n",
    "The demo includes running on whole dataset and for a single relation. Next block of code handles imports and defalt arguments for model.\n",
    "- **rules_file** : file where selected rules are saved after training\n",
    "- **rules_file_temp** : file where all rules are saved\n",
    "- **cores**: number of CPU cores used for multiprocessing (None means all)"
   ]
  },
  {
   "cell_type": "code",
   "execution_count": 1,
   "metadata": {},
   "outputs": [],
   "source": [
    "from argparse import Namespace\n",
    "from pylpr.model import LPR_model\n",
    "from pylpr.data import Graph_names\n",
    "import pandas as pd\n",
    "\n",
    "args = Namespace(\n",
    "    rules_file = 'results/umls.npy',\n",
    "    rules_file_temp = 'demo_temp.npy',\n",
    "    solver = 'PULP_CBC_CMD',\n",
    "    iterations = 20,\n",
    "    rules_load = False,\n",
    "    skip_writing = True,\n",
    "    skip_neg = True,\n",
    "    skip_weight = True,\n",
    "    cores = 3,\n",
    "    seed = 12345,\n",
    "    max_length = 4,\n",
    "    column_generation=False\n",
    ")\n",
    "\n",
    "model = LPR_model(\"datasets/UMLS/\", [0.02, 0.03, 0.04, 0.05, 0.0055, 0.06, 0.07, 0.08, 0.09, 0.1], args)"
   ]
  },
  {
   "cell_type": "code",
   "execution_count": 2,
   "metadata": {},
   "outputs": [],
   "source": [
    "counts = {}\n",
    "for rel in model.data.relation_to_num.values():\n",
    "    train = sum([len(ends) for _, ends in model.data.get_facts_for_rel(Graph_names.Train, rel)])\n",
    "    valid = sum([len(ends) for _, ends in model.data.get_facts_for_rel(Graph_names.Validate, rel)])\n",
    "    test  = sum([len(ends) for _, ends in model.data.get_facts_for_rel(Graph_names.Test, rel)])\n",
    "    counts[rel] = (train, valid, test)\n",
    "\n",
    "fact_counts = pd.DataFrame(data=counts.values(), index=counts.keys(), columns=['Train', 'Validate', 'Test'])"
   ]
  },
  {
   "attachments": {},
   "cell_type": "markdown",
   "metadata": {},
   "source": [
    "## Full dataset"
   ]
  },
  {
   "cell_type": "code",
   "execution_count": null,
   "metadata": {},
   "outputs": [],
   "source": [
    "model.fit()\n",
    "result = model.predict()\n",
    "\n",
    "pd.DataFrame(data=result.values(), index=result.keys())"
   ]
  },
  {
   "attachments": {},
   "cell_type": "markdown",
   "metadata": {},
   "source": [
    "## Single relation\n",
    "Checking number of facts using variable **fact_counts** before trying other relations recommended. Validation dataset is used to calculate entity rank so relations with no facst in validation dataset yield always MRR 0. "
   ]
  },
  {
   "cell_type": "code",
   "execution_count": 3,
   "metadata": {},
   "outputs": [
    {
     "name": "stdout",
     "output_type": "stream",
     "text": [
      "- relation '37': done\n",
      "- neg for relation '37': done\n",
      "Using solver 'PULP_CBC_CMD'\n",
      "rel: 37, t: 0.02 done\n",
      "rel: 37, t: 0.03 done\n",
      "rel: 37, t: 0.04 done\n",
      "rel: 37, t: 0.05 done\n",
      "rel: 37, t: 0.0055 done\n",
      "rel: 37, t: 0.06 done\n",
      "rel: 37, t: 0.07 done\n",
      "rel: 37, t: 0.08 done\n",
      "rel: 37, t: 0.09 done\n",
      "rel: 37, t: 0.1 done\n",
      "Weights for 37 calculated\n",
      "1 / 46 : 0.15185214668658298\n",
      "2 / 46 : 0.1514837686649304\n",
      "3 / 46 : 0.15135391220397076\n",
      "4 / 46 : 0.15184207454828122\n",
      "5 / 46 : 0.15110177971435337\n",
      "6 / 46 : 0.15144202472211354\n",
      "7 / 46 : 0.15125913797443136\n",
      "8 / 46 : 0.15197765545001435\n",
      "9 / 46 : 0.1515950646865334\n",
      "10 / 46 : 0.1513495613328767\n",
      "11 / 46 : 0.1520577507454678\n",
      "12 / 46 : 0.1515469371362556\n",
      "13 / 46 : 0.15202966031085322\n",
      "14 / 46 : 0.15157683574979589\n",
      "15 / 46 : 0.15189525408908033\n",
      "16 / 46 : 0.15165610604735924\n",
      "17 / 46 : 0.15161779925666827\n",
      "18 / 46 : 0.15166662523636268\n",
      "19 / 46 : 0.15161344020397255\n",
      "20 / 46 : 0.15169475167624893\n",
      "21 / 46 : 0.1516756493621673\n",
      "22 / 46 : 0.15092744850414117\n",
      "23 / 46 : 0.15198707580521706\n",
      "24 / 46 : 0.1516808600880468\n",
      "25 / 46 : 0.15202146696209126\n",
      "26 / 46 : 0.15179132228550854\n",
      "27 / 46 : 0.1517679678094216\n",
      "28 / 46 : 0.15173526000200316\n",
      "29 / 46 : 0.1518840157551643\n",
      "30 / 46 : 0.15168783314922915\n",
      "31 / 46 : 0.15176699527534965\n",
      "32 / 46 : 0.1516879170175251\n",
      "33 / 46 : 0.15196282724286245\n",
      "34 / 46 : 0.15124565688297117\n",
      "35 / 46 : 0.15195370701845956\n",
      "36 / 46 : 0.15147440690557692\n",
      "37 / 46 : 0.15205133438619542\n",
      "38 / 46 : 0.15142373466688994\n",
      "39 / 46 : 0.15175631197110048\n",
      "40 / 46 : 0.15117224006726576\n",
      "41 / 46 : 0.15136290191875146\n",
      "42 / 46 : 0.15163349688889527\n",
      "43 / 46 : 0.15118803370332073\n",
      "44 / 46 : 0.15118495270490367\n",
      "45 / 46 : 0.1516785367540876\n",
      "46 / 46 : 0.1516020658755102\n",
      "rel 37: all LPs solved\n",
      "- MRR: 0.1520577507454678\n",
      "================================================\n",
      "\n",
      "================================================\n",
      "rel: 37: done\n"
     ]
    },
    {
     "data": {
      "text/html": [
       "<div>\n",
       "<style scoped>\n",
       "    .dataframe tbody tr th:only-of-type {\n",
       "        vertical-align: middle;\n",
       "    }\n",
       "\n",
       "    .dataframe tbody tr th {\n",
       "        vertical-align: top;\n",
       "    }\n",
       "\n",
       "    .dataframe thead th {\n",
       "        text-align: right;\n",
       "    }\n",
       "</style>\n",
       "<table border=\"1\" class=\"dataframe\">\n",
       "  <thead>\n",
       "    <tr style=\"text-align: right;\">\n",
       "      <th></th>\n",
       "      <th>37</th>\n",
       "    </tr>\n",
       "  </thead>\n",
       "  <tbody>\n",
       "    <tr>\n",
       "      <th>hits:10</th>\n",
       "      <td>0.211538</td>\n",
       "    </tr>\n",
       "    <tr>\n",
       "      <th>hits_1</th>\n",
       "      <td>0.211538</td>\n",
       "    </tr>\n",
       "    <tr>\n",
       "      <th>hits_3</th>\n",
       "      <td>0.211538</td>\n",
       "    </tr>\n",
       "    <tr>\n",
       "      <th>mrr</th>\n",
       "      <td>0.221380</td>\n",
       "    </tr>\n",
       "  </tbody>\n",
       "</table>\n",
       "</div>"
      ],
      "text/plain": [
       "               37\n",
       "hits:10  0.211538\n",
       "hits_1   0.211538\n",
       "hits_3   0.211538\n",
       "mrr      0.221380"
      ]
     },
     "execution_count": 3,
     "metadata": {},
     "output_type": "execute_result"
    }
   ],
   "source": [
    "relation = 37\n",
    "\n",
    "# fit\n",
    "model.rules = model.generate_rules_for_rel(Graph_names.Train, relation)\n",
    "model.rules = model.get_rules_with_updated_neg_freq(relation)\n",
    "model.rules = model.solve_for_rel(relation, model.get_solver())\n",
    "\n",
    "# predict\n",
    "_, mrr, ranks = model.get_mrr_and_ranks(relation, Graph_names.Test)\n",
    "\n",
    "result = {}\n",
    "\n",
    "hits_1 = model.hits_k(ranks, 1)\n",
    "hits_3 = model.hits_k(ranks, 3)\n",
    "hits_10 = model.hits_k(ranks, 10)\n",
    "result[relation] = {'mrr': mrr, 'hits_1': hits_1, 'hits_3': hits_3, 'hits:10': hits_10}\n",
    "\n",
    "pd.DataFrame(result)"
   ]
  },
  {
   "attachments": {},
   "cell_type": "markdown",
   "metadata": {},
   "source": [
    "## Other\n",
    "\n",
    "method to convert rule to more readable format"
   ]
  },
  {
   "cell_type": "code",
   "execution_count": 1,
   "metadata": {},
   "outputs": [],
   "source": [
    "def rule_to_txt(rule):\n",
    "    consequent = model.data.num_to_relation[rule['consequent']]\n",
    "    path = []\n",
    "    for rel in model.get_rule_antecedent(rule):\n",
    "        if model.data.is_inverse(rel):\n",
    "            r = model.data.inv_to_rel(rel)\n",
    "            path.append('R_' + model.data.num_to_relation[r])\n",
    "            continue\n",
    "        path.append(model.data.num_to_relation[rel])\n",
    "            \n",
    "    return [consequent, path, rule['weight'], rule['freq'], rule['neg']]"
   ]
  }
 ],
 "metadata": {
  "kernelspec": {
   "display_name": "pyLPR-venv",
   "language": "python",
   "name": "pylpr-venv"
  },
  "language_info": {
   "codemirror_mode": {
    "name": "ipython",
    "version": 3
   },
   "file_extension": ".py",
   "mimetype": "text/x-python",
   "name": "python",
   "nbconvert_exporter": "python",
   "pygments_lexer": "ipython3",
   "version": "3.10.10"
  },
  "orig_nbformat": 4
 },
 "nbformat": 4,
 "nbformat_minor": 2
}
